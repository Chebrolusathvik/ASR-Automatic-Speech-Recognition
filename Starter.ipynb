{
  "nbformat": 4,
  "nbformat_minor": 0,
  "metadata": {
    "colab": {
      "name": "Starter",
      "provenance": []
    },
    "kernelspec": {
      "name": "python3",
      "display_name": "Python 3"
    }
  },
  "cells": [
    {
      "cell_type": "code",
      "metadata": {
        "id": "di-k-cqcLRO1",
        "colab_type": "code",
        "outputId": "22b9be54-e02f-47ed-a6c5-4e8755b4f670",
        "colab": {
          "base_uri": "https://localhost:8080/",
          "height": 53
        }
      },
      "source": [
        "pip install deepspeech==0.6.1"
      ],
      "execution_count": 39,
      "outputs": [
        {
          "output_type": "stream",
          "text": [
            "Requirement already satisfied: deepspeech==0.6.1 in /usr/local/lib/python3.6/dist-packages (0.6.1)\n",
            "Requirement already satisfied: numpy>=1.7.0 in /usr/local/lib/python3.6/dist-packages (from deepspeech==0.6.1) (1.18.4)\n"
          ],
          "name": "stdout"
        }
      ]
    },
    {
      "cell_type": "code",
      "metadata": {
        "id": "YfZ6VYqAMYM4",
        "colab_type": "code",
        "colab": {}
      },
      "source": [
        "!apt-get install -qq sox"
      ],
      "execution_count": 0,
      "outputs": []
    },
    {
      "cell_type": "markdown",
      "metadata": {
        "id": "8Zucc5O8W9v1",
        "colab_type": "text"
      },
      "source": [
        "Make a directory 'speech' and upload 3 files inside it: lm.binary, trie and retrained output_graph.pbmm "
      ]
    },
    {
      "cell_type": "code",
      "metadata": {
        "id": "J61HfQyqLwAc",
        "colab_type": "code",
        "colab": {}
      },
      "source": [
        "import deepspeech"
      ],
      "execution_count": 0,
      "outputs": []
    },
    {
      "cell_type": "code",
      "metadata": {
        "id": "xxSDKwXoMC_i",
        "colab_type": "code",
        "outputId": "d8f931f0-0bbf-425e-b975-58604b404483",
        "colab": {
          "base_uri": "https://localhost:8080/",
          "height": 217
        }
      },
      "source": [
        "!deepspeech --model speech/output_graph.pbmm --lm speech/lm.binary --trie speech/trie --audio /content/06_M_artic_01_004.wav"
      ],
      "execution_count": 42,
      "outputs": [
        {
          "output_type": "stream",
          "text": [
            "Loading model from file speech/output_graph.pbmm\n",
            "TensorFlow: v1.14.0-21-ge77504a\n",
            "DeepSpeech: v0.6.1-0-g3df20fe\n",
            "2020-06-06 11:20:28.367238: I tensorflow/core/platform/cpu_feature_guard.cc:142] Your CPU supports instructions that this TensorFlow binary was not compiled to use: AVX2 FMA\n",
            "Loaded model in 0.00928s.\n",
            "Loading language model from files speech/lm.binary speech/trie\n",
            "Loaded language model in 18.9s.\n",
            "Warning: original sample rate (48000) is different than 16000hz. Resampling might produce erratic speech recognition.\n",
            "Running inference.\n",
            "thought but i am glad to see you again till\n",
            "Inference took 2.803s for 11.351s audio file.\n"
          ],
          "name": "stdout"
        }
      ]
    }
  ]
}